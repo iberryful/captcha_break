{
 "cells": [
  {
   "cell_type": "code",
   "execution_count": 4,
   "metadata": {},
   "outputs": [],
   "source": [
    "import matplotlib.pyplot as plt\n",
    "import pytesseract\n",
    "import random\n",
    "import string"
   ]
  },
  {
   "cell_type": "code",
   "execution_count": 34,
   "metadata": {},
   "outputs": [
    {
     "name": "stdout",
     "output_type": "stream",
     "text": [
      "CH6TZLGDQSQ286531\n"
     ]
    },
    {
     "data": {
      "text/plain": [
       "<matplotlib.image.AxesImage at 0x7fe18ae415f8>"
      ]
     },
     "execution_count": 34,
     "metadata": {},
     "output_type": "execute_result"
    },
    {
     "data": {
      "image/png": "[encoded data removed]",
      "text/plain": [
       "<Figure size 432x288 with 1 Axes>"
      ]
     },
     "metadata": {},
     "output_type": "display_data"
    }
   ],
   "source": [
    "from PIL import Image, ImageDraw, ImageFont\n",
    "\n",
    "def gen_vin():\n",
    "    v1 = ''.join(random.choice(string.ascii_letters + string.digits) for _ in range(11)).upper()\n",
    "    v2 = ''.join(random.choice(string.digits) for _ in range(6))\n",
    "    return v1 + v2\n",
    "                \n",
    "def gen_vin_img(vin):\n",
    "    img = Image.new('RGB', (440, 80), color = (73, 109, 137))\n",
    "    fnt = ImageFont.truetype('/root/data/captcha_break/fonts/Courier New.ttf', 40)\n",
    "    d = ImageDraw.Draw(img)\n",
    "    d.text((15,20), vin, font=fnt, fill=(0, 0, 0))\n",
    "    return img\n",
    "vin = gen_vin()\n",
    "img = gen_vin_img(vin)\n",
    "print(vin)\n",
    "plt.imshow(img)"
   ]
  },
  {
   "cell_type": "code",
   "execution_count": 48,
   "metadata": {},
   "outputs": [
    {
     "name": "stdout",
     "output_type": "stream",
     "text": [
      "EACJMF4PVBH878406\n",
      "EACJMF 4 PVBH878406\n"
     ]
    },
    {
     "data": {
      "image/png": "[encoded data removed]",
      "text/plain": [
       "<Figure size 432x288 with 1 Axes>"
      ]
     },
     "metadata": {},
     "output_type": "display_data"
    }
   ],
   "source": [
    "vin = gen_vin()\n",
    "img = gen_vin_img(vin)\n",
    "print(vin)\n",
    "plt.imshow(img)\n",
    "print(pytesseract.image_to_string(img))"
   ]
  },
  {
   "cell_type": "code",
   "execution_count": 41,
   "metadata": {},
   "outputs": [
    {
     "name": "stdout",
     "output_type": "stream",
     "text": [
      "5\n"
     ]
    }
   ],
   "source": [
    "ok = 0\n",
    "for i in range(10):\n",
    "    vin = gen_vin()\n",
    "    if pytesseract.image_to_string(gen_vin_img(vin)) == vin:\n",
    "        ok += 1\n",
    "\n",
    "print(ok)"
   ]
  },
  {
   "cell_type": "code",
   "execution_count": null,
   "metadata": {},
   "outputs": [],
   "source": []
  }
 ],
 "metadata": {
  "kernelspec": {
   "display_name": "Python 3",
   "language": "python",
   "name": "python3"
  },
  "language_info": {
   "codemirror_mode": {
    "name": "ipython",
    "version": 3
   },
   "file_extension": ".py",
   "mimetype": "text/x-python",
   "name": "python",
   "nbconvert_exporter": "python",
   "pygments_lexer": "ipython3",
   "version": "3.6.5"
  }
 },
 "nbformat": 4,
 "nbformat_minor": 2
}

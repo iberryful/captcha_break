{
 "cells": [
  {
   "cell_type": "markdown",
   "metadata": {},
   "source": [
    "# 导入必要的库\n",
    "\n",
    "我们需要导入一个叫 [captcha](https://github.com/lepture/captcha/) 的库来生成验证码。\n",
    "\n",
    "我们生成验证码的字符由数字和大写字母组成。"
   ]
  },
  {
   "cell_type": "code",
   "execution_count": 3,
   "metadata": {},
   "outputs": [
    {
     "name": "stdout",
     "output_type": "stream",
     "text": [
      "0123456789ABCDEFGHIJKLMNOPQRSTUVWXYZabcdefghijklmnopqrstuvwxyz\n"
     ]
    },
    {
     "data": {
      "text/plain": [
       "['/root/captcha_break/fonts/Huhtikuu.ttf',\n",
       " '/root/captcha_break/fonts/Chalkduster.ttf',\n",
       " '/root/captcha_break/fonts/Walk-Around.ttf',\n",
       " '/root/captcha_break/fonts/Courier New.ttf',\n",
       " '/root/captcha_break/fonts/Arial Bold.ttf',\n",
       " '/root/captcha_break/fonts/AgentRed.TTF',\n",
       " '/root/captcha_break/fonts/Arial.ttf',\n",
       " '/root/captcha_break/fonts/Chalkboard.ttc',\n",
       " '/root/captcha_break/fonts/Times New Roman.ttf']"
      ]
     },
     "execution_count": 3,
     "metadata": {},
     "output_type": "execute_result"
    }
   ],
   "source": [
    "from captcha.image import ImageCaptcha\n",
    "import matplotlib.pyplot as plt\n",
    "import numpy as np\n",
    "import random\n",
    "from tqdm import tqdm\n",
    "from PIL import Image\n",
    "import random\n",
    "import os\n",
    "import pickle\n",
    "from multiprocessing import Pool\n",
    "import gzip\n",
    "%matplotlib inline\n",
    "%config InlineBackend.figure_format = 'retina'\n",
    "\n",
    "import string\n",
    "characters = string.digits + string.ascii_uppercase + string.ascii_lowercase\n",
    "print(characters)\n",
    "\n",
    "width, height, n_len, n_class = 170, 80, 4, len(characters)\n",
    "\n",
    "fonts = [os.path.abspath(\"fonts/\" + f) for f in os.listdir('fonts')]\n",
    "fonts"
   ]
  },
  {
   "cell_type": "markdown",
   "metadata": {},
   "source": [
    "# 定义数据生成器"
   ]
  },
  {
   "cell_type": "code",
   "execution_count": 4,
   "metadata": {},
   "outputs": [
    {
     "name": "stderr",
     "output_type": "stream",
     "text": [
      "/root/anaconda3/envs/fastai/lib/python3.6/site-packages/h5py/__init__.py:36: FutureWarning: Conversion of the second argument of issubdtype from `float` to `np.floating` is deprecated. In future, it will be treated as `np.float64 == np.dtype(float).type`.\n",
      "  from ._conv import register_converters as _register_converters\n",
      "Using TensorFlow backend.\n"
     ]
    }
   ],
   "source": [
    "from keras.utils.np_utils import to_categorical\n",
    "from keras.utils import Sequence\n",
    "\n",
    "def gen(batch_size=32):\n",
    "    X = np.zeros((batch_size, height, width, 3), dtype=np.uint8)\n",
    "    y = [np.zeros((batch_size, n_class), dtype=np.uint8) for i in range(n_len)]\n",
    "    generator = ImageCaptcha(width=width, height=height, fonts=fonts)\n",
    "    while True:\n",
    "        for i in range(batch_size):\n",
    "            random_str = ''.join([random.choice(characters) for j in range(4)])\n",
    "            X[i] = generator.generate_image(random_str)\n",
    "            for j, ch in enumerate(random_str):\n",
    "                y[j][i, :] = 0\n",
    "                y[j][i, characters.find(ch)] = 1\n",
    "        yield X, y\n",
    "        \n",
    "def gen_full(batch_size=32):\n",
    "    X = np.zeros((batch_size, height, width, 3), dtype=np.uint8)\n",
    "    y = [np.zeros((batch_size, n_class), dtype=np.uint8) for i in range(n_len)]\n",
    "    generator = ImageCaptcha(width=width, height=height)\n",
    "    for i in tqdm(range(batch_size)):\n",
    "        random_str = ''.join([random.choice(characters) for j in range(4)])\n",
    "        X[i] = generator.generate_image(random_str)\n",
    "        for j, ch in enumerate(random_str):\n",
    "            y[j][i, :] = 0\n",
    "            y[j][i, characters.find(ch)] = 1\n",
    "\n",
    "def gen_pickles(batch_size=1,pickle_size=10000, dir='.'):\n",
    "    X = np.zeros((pickle_size, height, width, 3), dtype=np.uint8)\n",
    "    y = [np.zeros((pickle_size, n_class), dtype=np.uint8) for i in range(n_len)]\n",
    "    generator = ImageCaptcha(width=width, height=height)\n",
    "    for i in tqdm(range(batch_size*pickle_size)):\n",
    "        inner_idx, outer_idx = i % pickle_size, int(i/pickle_size)\n",
    "        random_str = ''.join([random.choice(characters) for j in range(4)])\n",
    "        X[inner_idx] = generator.generate_image(random_str)\n",
    "        for j, ch in enumerate(random_str):\n",
    "            y[j][i, :] = 0\n",
    "            y[j][i, characters.find(ch)] = 1\n",
    "        if  inner_idx == pickle_size - 1:\n",
    "            with gzip.open('%s/p-%d' % (dir, outer_idx ), \"wb\") as f:\n",
    "                pickle.dump((X,y), f, True)\n",
    "            X = np.zeros((pickle_size, height, width, 3), dtype=np.uint8)\n",
    "            y = [np.zeros((pickle_size, n_class), dtype=np.uint8) for i in range(n_len)]\n",
    "\n",
    "def gen_one_pickle(seq=1,pickle_size=10000, dir='.'):\n",
    "    X = np.zeros((pickle_size, height, width, 3), dtype=np.uint8)\n",
    "    y = [np.zeros((pickle_size, n_class), dtype=np.uint8) for i in range(n_len)]\n",
    "    generator = ImageCaptcha(width=width, height=height)\n",
    "    for i in range(pickle_size):\n",
    "        random_str = ''.join([random.choice(characters) for j in range(4)])\n",
    "        X[i] = generator.generate_image(random_str)\n",
    "        for j, ch in enumerate(random_str):\n",
    "            y[j][i, :] = 0\n",
    "            y[j][i, characters.find(ch)] = 1\n",
    "    with gzip.open('%s/p-%d' % (dir, seq ), \"wb\") as f:\n",
    "        pickle.dump((X,y), f, True)\n",
    "\n",
    "def pickle_iter(batch_size, pickle_size, dir='.'):\n",
    "    i = 0\n",
    "    while True:\n",
    "        i = i % batch_size\n",
    "        print(\"pickle load dir %s, seq %d\" % (dir, i) )\n",
    "        with gzip.open(\"%s/p-%d\" % (dir, i), 'rb' ) as f:\n",
    "            X, y = pickle.load(f)\n",
    "        i += 1\n",
    "        yield X, y\n",
    "    \n",
    "\n",
    "def gen_file(batch_size=32, dir='.'):\n",
    "    generator = ImageCaptcha(width=width, height=height)\n",
    "    for i in tqdm(range(batch_size)):\n",
    "        random_str = ''.join([random.choice(characters) for j in range(4)])\n",
    "        generator.write(random_str, '%s/%s.png' % (dir,random_str))\n",
    "\n",
    "def file_iter(batch_size=32, dir='.'):\n",
    "    X = np.zeros((batch_size, height, width, 3), dtype=np.uint8)\n",
    "    y = [np.zeros((batch_size, n_class), dtype=np.uint8) for i in range(n_len)]\n",
    "    #dircache = os.\n",
    "    files_set = set(os.listdir(dir))\n",
    "    while True:\n",
    "        for i in range(batch_size):\n",
    "            filename = random.sample(files_set, 1)[0]\n",
    "            files_set.remove(filename)\n",
    "            img = Image.open('%s/%s' % (dir, filename))\n",
    "            X[i] = np.asarray(img)\n",
    "            img.close()\n",
    "            for j, ch in enumerate(filename.split('.')[0]):\n",
    "                y[j][i, :] = 0\n",
    "                y[j][i, characters.find(ch)] = 1\n",
    "            yield X, y\n",
    "            \n",
    "    \n"
   ]
  },
  {
   "cell_type": "markdown",
   "metadata": {},
   "source": [
    "# 测试生成器"
   ]
  },
  {
   "cell_type": "code",
   "execution_count": 28,
   "metadata": {},
   "outputs": [
    {
     "data": {
      "text/plain": [
       "Text(0.5,1,'QzXr')"
      ]
     },
     "execution_count": 28,
     "metadata": {},
     "output_type": "execute_result"
    },
    {
     "data": {
      "image/png": "[encoded data removed]",
      "text/plain": [
       "<Figure size 432x288 with 1 Axes>"
      ]
     },
     "metadata": {
      "image/png": {
       "height": 203,
       "width": 370
      }
     },
     "output_type": "display_data"
    }
   ],
   "source": [
    "def decode(y):\n",
    "    y = np.argmax(np.array(y), axis=2)[:,0]\n",
    "    return ''.join([characters[x] for x in y])\n",
    "\n",
    "X, y = next(gen(1))\n",
    "#X, y = next(file_iter(1, 'data/train'))\n",
    "plt.imshow(X[0])\n",
    "plt.title(decode(y))"
   ]
  },
  {
   "cell_type": "code",
   "execution_count": 11,
   "metadata": {},
   "outputs": [
    {
     "name": "stderr",
     "output_type": "stream",
     "text": [
      "Process ForkPoolWorker-8:\n",
      "Process ForkPoolWorker-5:\n"
     ]
    },
    {
     "ename": "KeyboardInterrupt",
     "evalue": "",
     "output_type": "error",
     "traceback": [
      "\u001b[0;31m---------------------------------------------------------------------------\u001b[0m",
      "\u001b[0;31mKeyboardInterrupt\u001b[0m                         Traceback (most recent call last)",
      "\u001b[0;32m<ipython-input-11-d3340e7fd7f9>\u001b[0m in \u001b[0;36m<module>\u001b[0;34m()\u001b[0m\n\u001b[1;32m     12\u001b[0m \u001b[0mpool\u001b[0m \u001b[0;34m=\u001b[0m \u001b[0mPool\u001b[0m\u001b[0;34m(\u001b[0m\u001b[0;36m4\u001b[0m\u001b[0;34m)\u001b[0m\u001b[0;34m\u001b[0m\u001b[0m\n\u001b[1;32m     13\u001b[0m \u001b[0marg_lists\u001b[0m \u001b[0;34m=\u001b[0m \u001b[0;34m[\u001b[0m\u001b[0;34m(\u001b[0m\u001b[0mi\u001b[0m\u001b[0;34m,\u001b[0m\u001b[0;36m1000\u001b[0m\u001b[0;34m,\u001b[0m \u001b[0;34m'pickle/train'\u001b[0m\u001b[0;34m)\u001b[0m \u001b[0;32mfor\u001b[0m \u001b[0mi\u001b[0m \u001b[0;32min\u001b[0m \u001b[0mrange\u001b[0m\u001b[0;34m(\u001b[0m\u001b[0;36m2000\u001b[0m\u001b[0;34m)\u001b[0m\u001b[0;34m]\u001b[0m\u001b[0;34m\u001b[0m\u001b[0m\n\u001b[0;32m---> 14\u001b[0;31m \u001b[0mpool\u001b[0m\u001b[0;34m.\u001b[0m\u001b[0mstarmap\u001b[0m\u001b[0;34m(\u001b[0m\u001b[0mgen_one_pickle\u001b[0m\u001b[0;34m,\u001b[0m \u001b[0marg_lists\u001b[0m\u001b[0;34m)\u001b[0m\u001b[0;34m\u001b[0m\u001b[0m\n\u001b[0m\u001b[1;32m     15\u001b[0m \u001b[0;34m\u001b[0m\u001b[0m\n\u001b[1;32m     16\u001b[0m \u001b[0mpool\u001b[0m \u001b[0;34m=\u001b[0m \u001b[0mPool\u001b[0m\u001b[0;34m(\u001b[0m\u001b[0;36m4\u001b[0m\u001b[0;34m)\u001b[0m\u001b[0;34m\u001b[0m\u001b[0m\n",
      "\u001b[0;32m~/anaconda3/envs/fastai/lib/python3.6/multiprocessing/pool.py\u001b[0m in \u001b[0;36mstarmap\u001b[0;34m(self, func, iterable, chunksize)\u001b[0m\n\u001b[1;32m    272\u001b[0m         \u001b[0;31m`\u001b[0m\u001b[0mfunc\u001b[0m\u001b[0;31m`\u001b[0m \u001b[0;32mand\u001b[0m \u001b[0;34m(\u001b[0m\u001b[0ma\u001b[0m\u001b[0;34m,\u001b[0m \u001b[0mb\u001b[0m\u001b[0;34m)\u001b[0m \u001b[0mbecomes\u001b[0m \u001b[0mfunc\u001b[0m\u001b[0;34m(\u001b[0m\u001b[0ma\u001b[0m\u001b[0;34m,\u001b[0m \u001b[0mb\u001b[0m\u001b[0;34m)\u001b[0m\u001b[0;34m.\u001b[0m\u001b[0;34m\u001b[0m\u001b[0m\n\u001b[1;32m    273\u001b[0m         '''\n\u001b[0;32m--> 274\u001b[0;31m         \u001b[0;32mreturn\u001b[0m \u001b[0mself\u001b[0m\u001b[0;34m.\u001b[0m\u001b[0m_map_async\u001b[0m\u001b[0;34m(\u001b[0m\u001b[0mfunc\u001b[0m\u001b[0;34m,\u001b[0m \u001b[0miterable\u001b[0m\u001b[0;34m,\u001b[0m \u001b[0mstarmapstar\u001b[0m\u001b[0;34m,\u001b[0m \u001b[0mchunksize\u001b[0m\u001b[0;34m)\u001b[0m\u001b[0;34m.\u001b[0m\u001b[0mget\u001b[0m\u001b[0;34m(\u001b[0m\u001b[0;34m)\u001b[0m\u001b[0;34m\u001b[0m\u001b[0m\n\u001b[0m\u001b[1;32m    275\u001b[0m \u001b[0;34m\u001b[0m\u001b[0m\n\u001b[1;32m    276\u001b[0m     def starmap_async(self, func, iterable, chunksize=None, callback=None,\n",
      "\u001b[0;32m~/anaconda3/envs/fastai/lib/python3.6/multiprocessing/pool.py\u001b[0m in \u001b[0;36mget\u001b[0;34m(self, timeout)\u001b[0m\n\u001b[1;32m    636\u001b[0m \u001b[0;34m\u001b[0m\u001b[0m\n\u001b[1;32m    637\u001b[0m     \u001b[0;32mdef\u001b[0m \u001b[0mget\u001b[0m\u001b[0;34m(\u001b[0m\u001b[0mself\u001b[0m\u001b[0;34m,\u001b[0m \u001b[0mtimeout\u001b[0m\u001b[0;34m=\u001b[0m\u001b[0;32mNone\u001b[0m\u001b[0;34m)\u001b[0m\u001b[0;34m:\u001b[0m\u001b[0;34m\u001b[0m\u001b[0m\n\u001b[0;32m--> 638\u001b[0;31m         \u001b[0mself\u001b[0m\u001b[0;34m.\u001b[0m\u001b[0mwait\u001b[0m\u001b[0;34m(\u001b[0m\u001b[0mtimeout\u001b[0m\u001b[0;34m)\u001b[0m\u001b[0;34m\u001b[0m\u001b[0m\n\u001b[0m\u001b[1;32m    639\u001b[0m         \u001b[0;32mif\u001b[0m \u001b[0;32mnot\u001b[0m \u001b[0mself\u001b[0m\u001b[0;34m.\u001b[0m\u001b[0mready\u001b[0m\u001b[0;34m(\u001b[0m\u001b[0;34m)\u001b[0m\u001b[0;34m:\u001b[0m\u001b[0;34m\u001b[0m\u001b[0m\n\u001b[1;32m    640\u001b[0m             \u001b[0;32mraise\u001b[0m \u001b[0mTimeoutError\u001b[0m\u001b[0;34m\u001b[0m\u001b[0m\n",
      "\u001b[0;32m~/anaconda3/envs/fastai/lib/python3.6/multiprocessing/pool.py\u001b[0m in \u001b[0;36mwait\u001b[0;34m(self, timeout)\u001b[0m\n\u001b[1;32m    633\u001b[0m \u001b[0;34m\u001b[0m\u001b[0m\n\u001b[1;32m    634\u001b[0m     \u001b[0;32mdef\u001b[0m \u001b[0mwait\u001b[0m\u001b[0;34m(\u001b[0m\u001b[0mself\u001b[0m\u001b[0;34m,\u001b[0m \u001b[0mtimeout\u001b[0m\u001b[0;34m=\u001b[0m\u001b[0;32mNone\u001b[0m\u001b[0;34m)\u001b[0m\u001b[0;34m:\u001b[0m\u001b[0;34m\u001b[0m\u001b[0m\n\u001b[0;32m--> 635\u001b[0;31m         \u001b[0mself\u001b[0m\u001b[0;34m.\u001b[0m\u001b[0m_event\u001b[0m\u001b[0;34m.\u001b[0m\u001b[0mwait\u001b[0m\u001b[0;34m(\u001b[0m\u001b[0mtimeout\u001b[0m\u001b[0;34m)\u001b[0m\u001b[0;34m\u001b[0m\u001b[0m\n\u001b[0m\u001b[1;32m    636\u001b[0m \u001b[0;34m\u001b[0m\u001b[0m\n\u001b[1;32m    637\u001b[0m     \u001b[0;32mdef\u001b[0m \u001b[0mget\u001b[0m\u001b[0;34m(\u001b[0m\u001b[0mself\u001b[0m\u001b[0;34m,\u001b[0m \u001b[0mtimeout\u001b[0m\u001b[0;34m=\u001b[0m\u001b[0;32mNone\u001b[0m\u001b[0;34m)\u001b[0m\u001b[0;34m:\u001b[0m\u001b[0;34m\u001b[0m\u001b[0m\n",
      "\u001b[0;32m~/anaconda3/envs/fastai/lib/python3.6/threading.py\u001b[0m in \u001b[0;36mwait\u001b[0;34m(self, timeout)\u001b[0m\n\u001b[1;32m    549\u001b[0m             \u001b[0msignaled\u001b[0m \u001b[0;34m=\u001b[0m \u001b[0mself\u001b[0m\u001b[0;34m.\u001b[0m\u001b[0m_flag\u001b[0m\u001b[0;34m\u001b[0m\u001b[0m\n\u001b[1;32m    550\u001b[0m             \u001b[0;32mif\u001b[0m \u001b[0;32mnot\u001b[0m \u001b[0msignaled\u001b[0m\u001b[0;34m:\u001b[0m\u001b[0;34m\u001b[0m\u001b[0m\n\u001b[0;32m--> 551\u001b[0;31m                 \u001b[0msignaled\u001b[0m \u001b[0;34m=\u001b[0m \u001b[0mself\u001b[0m\u001b[0;34m.\u001b[0m\u001b[0m_cond\u001b[0m\u001b[0;34m.\u001b[0m\u001b[0mwait\u001b[0m\u001b[0;34m(\u001b[0m\u001b[0mtimeout\u001b[0m\u001b[0;34m)\u001b[0m\u001b[0;34m\u001b[0m\u001b[0m\n\u001b[0m\u001b[1;32m    552\u001b[0m             \u001b[0;32mreturn\u001b[0m \u001b[0msignaled\u001b[0m\u001b[0;34m\u001b[0m\u001b[0m\n\u001b[1;32m    553\u001b[0m \u001b[0;34m\u001b[0m\u001b[0m\n",
      "\u001b[0;32m~/anaconda3/envs/fastai/lib/python3.6/threading.py\u001b[0m in \u001b[0;36mwait\u001b[0;34m(self, timeout)\u001b[0m\n\u001b[1;32m    293\u001b[0m         \u001b[0;32mtry\u001b[0m\u001b[0;34m:\u001b[0m    \u001b[0;31m# restore state no matter what (e.g., KeyboardInterrupt)\u001b[0m\u001b[0;34m\u001b[0m\u001b[0m\n\u001b[1;32m    294\u001b[0m             \u001b[0;32mif\u001b[0m \u001b[0mtimeout\u001b[0m \u001b[0;32mis\u001b[0m \u001b[0;32mNone\u001b[0m\u001b[0;34m:\u001b[0m\u001b[0;34m\u001b[0m\u001b[0m\n\u001b[0;32m--> 295\u001b[0;31m                 \u001b[0mwaiter\u001b[0m\u001b[0;34m.\u001b[0m\u001b[0macquire\u001b[0m\u001b[0;34m(\u001b[0m\u001b[0;34m)\u001b[0m\u001b[0;34m\u001b[0m\u001b[0m\n\u001b[0m\u001b[1;32m    296\u001b[0m                 \u001b[0mgotit\u001b[0m \u001b[0;34m=\u001b[0m \u001b[0;32mTrue\u001b[0m\u001b[0;34m\u001b[0m\u001b[0m\n\u001b[1;32m    297\u001b[0m             \u001b[0;32melse\u001b[0m\u001b[0;34m:\u001b[0m\u001b[0;34m\u001b[0m\u001b[0m\n",
      "\u001b[0;31mKeyboardInterrupt\u001b[0m: "
     ]
    },
    {
     "name": "stderr",
     "output_type": "stream",
     "text": [
      "Traceback (most recent call last):\n",
      "Process ForkPoolWorker-7:\n",
      "Traceback (most recent call last):\n",
      "  File \"/root/anaconda3/envs/fastai/lib/python3.6/multiprocessing/process.py\", line 258, in _bootstrap\n",
      "    self.run()\n",
      "Traceback (most recent call last):\n",
      "  File \"/root/anaconda3/envs/fastai/lib/python3.6/multiprocessing/process.py\", line 93, in run\n",
      "    self._target(*self._args, **self._kwargs)\n",
      "  File \"/root/anaconda3/envs/fastai/lib/python3.6/multiprocessing/pool.py\", line 119, in worker\n",
      "    result = (True, func(*args, **kwds))\n",
      "  File \"/root/anaconda3/envs/fastai/lib/python3.6/multiprocessing/process.py\", line 258, in _bootstrap\n",
      "    self.run()\n",
      "  File \"/root/anaconda3/envs/fastai/lib/python3.6/multiprocessing/process.py\", line 258, in _bootstrap\n",
      "    self.run()\n",
      "  File \"/root/anaconda3/envs/fastai/lib/python3.6/multiprocessing/process.py\", line 93, in run\n",
      "    self._target(*self._args, **self._kwargs)\n",
      "  File \"/root/anaconda3/envs/fastai/lib/python3.6/multiprocessing/pool.py\", line 47, in starmapstar\n",
      "    return list(itertools.starmap(args[0], args[1]))\n",
      "  File \"<ipython-input-4-d7d493779587>\", line 51, in gen_one_pickle\n",
      "    X[i] = generator.generate_image(random_str)\n",
      "  File \"/root/anaconda3/envs/fastai/lib/python3.6/multiprocessing/pool.py\", line 119, in worker\n",
      "    result = (True, func(*args, **kwds))\n",
      "  File \"/root/anaconda3/envs/fastai/lib/python3.6/site-packages/captcha/image.py\", line 226, in generate_image\n",
      "    im = self.create_captcha_image(chars, color, background)\n",
      "  File \"/root/anaconda3/envs/fastai/lib/python3.6/multiprocessing/process.py\", line 93, in run\n",
      "    self._target(*self._args, **self._kwargs)\n",
      "  File \"/root/anaconda3/envs/fastai/lib/python3.6/multiprocessing/pool.py\", line 47, in starmapstar\n",
      "    return list(itertools.starmap(args[0], args[1]))\n",
      "  File \"/root/anaconda3/envs/fastai/lib/python3.6/multiprocessing/pool.py\", line 119, in worker\n",
      "    result = (True, func(*args, **kwds))\n",
      "  File \"/root/anaconda3/envs/fastai/lib/python3.6/site-packages/captcha/image.py\", line 210, in create_captcha_image\n",
      "    mask = im.convert('L').point(table)\n",
      "  File \"<ipython-input-4-d7d493779587>\", line 51, in gen_one_pickle\n",
      "    X[i] = generator.generate_image(random_str)\n",
      "  File \"/root/anaconda3/envs/fastai/lib/python3.6/site-packages/PIL/Image.py\", line 1510, in point\n",
      "    return self._new(self.im.point(lut, mode))\n",
      "KeyboardInterrupt\n",
      "  File \"/root/anaconda3/envs/fastai/lib/python3.6/multiprocessing/pool.py\", line 47, in starmapstar\n",
      "    return list(itertools.starmap(args[0], args[1]))\n",
      "  File \"/root/anaconda3/envs/fastai/lib/python3.6/site-packages/captcha/image.py\", line 226, in generate_image\n",
      "    im = self.create_captcha_image(chars, color, background)\n",
      "  File \"<ipython-input-4-d7d493779587>\", line 51, in gen_one_pickle\n",
      "    X[i] = generator.generate_image(random_str)\n",
      "  File \"/root/anaconda3/envs/fastai/lib/python3.6/site-packages/captcha/image.py\", line 197, in create_captcha_image\n",
      "    images.append(_draw_character(c))\n",
      "  File \"/root/anaconda3/envs/fastai/lib/python3.6/site-packages/captcha/image.py\", line 226, in generate_image\n",
      "    im = self.create_captcha_image(chars, color, background)\n",
      "  File \"/root/anaconda3/envs/fastai/lib/python3.6/site-packages/captcha/image.py\", line 174, in _draw_character\n",
      "    im = im.rotate(random.uniform(-30, 30), Image.BILINEAR, expand=1)\n",
      "  File \"/root/anaconda3/envs/fastai/lib/python3.6/site-packages/captcha/image.py\", line 197, in create_captcha_image\n",
      "    images.append(_draw_character(c))\n",
      "  File \"/root/anaconda3/envs/fastai/lib/python3.6/site-packages/captcha/image.py\", line 192, in _draw_character\n",
      "    im = im.transform((w, h), Image.QUAD, data)\n",
      "  File \"/root/anaconda3/envs/fastai/lib/python3.6/site-packages/PIL/Image.py\", line 1871, in rotate\n",
      "    return self.transform((w, h), AFFINE, matrix, resample, fillcolor=fillcolor)\n",
      "  File \"/root/anaconda3/envs/fastai/lib/python3.6/site-packages/PIL/Image.py\", line 2148, in transform\n",
      "    return self.convert('RGBa').transform(\n",
      "  File \"/root/anaconda3/envs/fastai/lib/python3.6/site-packages/PIL/Image.py\", line 2149, in transform\n",
      "    size, method, data, resample, fill, fillcolor).convert('RGBA')\n",
      "  File \"/root/anaconda3/envs/fastai/lib/python3.6/site-packages/PIL/Image.py\", line 992, in convert\n",
      "    im = self.im.convert(mode, dither)\n",
      "  File \"/root/anaconda3/envs/fastai/lib/python3.6/site-packages/PIL/Image.py\", line 2169, in transform\n",
      "    resample, fillcolor is None)\n",
      "KeyboardInterrupt\n",
      "  File \"/root/anaconda3/envs/fastai/lib/python3.6/site-packages/PIL/Image.py\", line 2179, in __transformer\n",
      "    data = data[0:6]\n",
      "KeyboardInterrupt\n"
     ]
    }
   ],
   "source": [
    "\n",
    "#x_train, y_train = list(next(gen(500000)))\n",
    "#x_test, y_test = list(next(gen(100000)))\n",
    "#print('done')\n",
    "#gen_pickle(1,10,'pickle/train')\n",
    "#x_train, y_train = list(next(pickle_iter(1,10, 'pickle/train')))\n",
    "#gen_file(1000000, 'data/train')\n",
    "#pool = Pool(4)\n",
    "#arg_lists = [(i,1000, 'data/train') for i in range(100)]\n",
    "#pool.starmap(gen_one_pickle, arg_lists)\n",
    "\n",
    "#pool = Pool(4)\n",
    "#arg_lists = [(i,1000, 'pickle/train') for i in range(2000)]\n",
    "#pool.starmap(gen_one_pickle, arg_lists)\n",
    "\n",
    "#pool = Pool(4)\n",
    "#arg_lists = [(i,1000, 'pickle/test') for i in range(400)]\n",
    "#pool.starmap(gen_one_pickle, arg_lists)\n",
    "\n",
    "#gen_file(200000, 'data/test')\n",
    "#x_train, y_train = list(next(file_iter(100, 'data/train')))\n",
    "#x_train2, y_train2 = gen_full(1000000)\n",
    "#x_test2, y_test2 = gen_full(200000)\n"
   ]
  },
  {
   "cell_type": "markdown",
   "metadata": {},
   "source": [
    "# 定义网络结构"
   ]
  },
  {
   "cell_type": "code",
   "execution_count": 30,
   "metadata": {},
   "outputs": [
    {
     "name": "stderr",
     "output_type": "stream",
     "text": [
      "/root/anaconda3/envs/fastai/lib/python3.6/site-packages/ipykernel_launcher.py:7: UserWarning: Update your `Conv2D` call to the Keras 2 API: `Conv2D(32, (3, 3), activation=\"relu\")`\n",
      "  import sys\n",
      "/root/anaconda3/envs/fastai/lib/python3.6/site-packages/ipykernel_launcher.py:8: UserWarning: Update your `Conv2D` call to the Keras 2 API: `Conv2D(32, (3, 3), activation=\"relu\")`\n",
      "  \n",
      "/root/anaconda3/envs/fastai/lib/python3.6/site-packages/ipykernel_launcher.py:7: UserWarning: Update your `Conv2D` call to the Keras 2 API: `Conv2D(64, (3, 3), activation=\"relu\")`\n",
      "  import sys\n",
      "/root/anaconda3/envs/fastai/lib/python3.6/site-packages/ipykernel_launcher.py:8: UserWarning: Update your `Conv2D` call to the Keras 2 API: `Conv2D(64, (3, 3), activation=\"relu\")`\n",
      "  \n",
      "/root/anaconda3/envs/fastai/lib/python3.6/site-packages/ipykernel_launcher.py:7: UserWarning: Update your `Conv2D` call to the Keras 2 API: `Conv2D(128, (3, 3), activation=\"relu\")`\n",
      "  import sys\n",
      "/root/anaconda3/envs/fastai/lib/python3.6/site-packages/ipykernel_launcher.py:8: UserWarning: Update your `Conv2D` call to the Keras 2 API: `Conv2D(128, (3, 3), activation=\"relu\")`\n",
      "  \n",
      "/root/anaconda3/envs/fastai/lib/python3.6/site-packages/ipykernel_launcher.py:7: UserWarning: Update your `Conv2D` call to the Keras 2 API: `Conv2D(256, (3, 3), activation=\"relu\")`\n",
      "  import sys\n",
      "/root/anaconda3/envs/fastai/lib/python3.6/site-packages/ipykernel_launcher.py:8: UserWarning: Update your `Conv2D` call to the Keras 2 API: `Conv2D(256, (3, 3), activation=\"relu\")`\n",
      "  \n",
      "/root/anaconda3/envs/fastai/lib/python3.6/site-packages/ipykernel_launcher.py:14: UserWarning: Update your `Model` call to the Keras 2 API: `Model(inputs=Tensor(\"in..., outputs=[<tf.Tenso...)`\n",
      "  \n"
     ]
    }
   ],
   "source": [
    "from keras.models import *\n",
    "from keras.layers import *\n",
    "\n",
    "input_tensor = Input((height, width, 3))\n",
    "x = input_tensor\n",
    "for i in range(4):\n",
    "    x = Convolution2D(32*2**i, 3, 3, activation='relu')(x)\n",
    "    x = Convolution2D(32*2**i, 3, 3, activation='relu')(x)\n",
    "    x = MaxPooling2D((2, 2))(x)\n",
    "\n",
    "x = Flatten()(x)\n",
    "x = Dropout(0.25)(x)\n",
    "x = [Dense(n_class, activation='softmax', name='c%d'%(i+1))(x) for i in range(4)]\n",
    "model = Model(input=input_tensor, output=x)\n",
    "\n",
    "model.compile(loss='categorical_crossentropy',\n",
    "              optimizer='adadelta',\n",
    "              metrics=['accuracy'])"
   ]
  },
  {
   "cell_type": "markdown",
   "metadata": {},
   "source": [
    "# 网络结构可视化"
   ]
  },
  {
   "cell_type": "code",
   "execution_count": 9,
   "metadata": {
    "scrolled": false
   },
   "outputs": [],
   "source": [
    "#from keras.utils.visualize_util import plot\n",
    "#from IPython.display import Image\n",
    "\n",
    "#plot(model, to_file=\"model.png\", show_shapes=True)\n",
    "#Image('model.png')"
   ]
  },
  {
   "cell_type": "markdown",
   "metadata": {},
   "source": [
    "# 训练模型"
   ]
  },
  {
   "cell_type": "code",
   "execution_count": 10,
   "metadata": {},
   "outputs": [],
   "source": [
    "class PickleSequenceData(Sequence):\n",
    "    def __init__(self, path, batch_size):\n",
    "        # path：存放所有图片的文件夹\n",
    "        self.path = path\n",
    "        self.batch_size = batch_size\n",
    "\n",
    "    def __len__(self):\n",
    "        # 让代码知道这个序列的长度\n",
    "        return self.batch_size\n",
    "\n",
    "    def __getitem__(self, i):\n",
    "        # 迭代器部分\n",
    "        #print(\"pickle load dir %s, seq %d\" % (self.path, i) )\n",
    "        with gzip.open(\"%s/p-%d\" % (self.path, i), 'rb' ) as f:\n",
    "            X, y = pickle.load(f)\n",
    "        return X, y"
   ]
  },
  {
   "cell_type": "code",
   "execution_count": 11,
   "metadata": {
    "scrolled": false
   },
   "outputs": [],
   "source": [
    "#model.fit(x=x_train, y=y_train, epochs=10, batch_size=30,  \n",
    "#                    validation_data=[x_test,y_test])"
   ]
  },
  {
   "cell_type": "code",
   "execution_count": 12,
   "metadata": {},
   "outputs": [
    {
     "name": "stdout",
     "output_type": "stream",
     "text": [
      "Epoch 1/10\n",
      "2000/2000 [==============================] - 1251s 626ms/step - loss: 2.8267 - c1_loss: 0.7644 - c2_loss: 0.6671 - c3_loss: 0.7194 - c4_loss: 0.6758 - c1_acc: 0.7964 - c2_acc: 0.8172 - c3_acc: 0.8056 - c4_acc: 0.8168 - val_loss: 0.1641 - val_c1_loss: 0.0320 - val_c2_loss: 0.0388 - val_c3_loss: 0.0477 - val_c4_loss: 0.0456 - val_c1_acc: 0.9877 - val_c2_acc: 0.9850 - val_c3_acc: 0.9818 - val_c4_acc: 0.9824\n",
      "Epoch 2/10\n",
      "2000/2000 [==============================] - 1245s 622ms/step - loss: 0.2383 - c1_loss: 0.0578 - c2_loss: 0.0574 - c3_loss: 0.0650 - c4_loss: 0.0581 - c1_acc: 0.9817 - c2_acc: 0.9812 - c3_acc: 0.9791 - c4_acc: 0.9813 - val_loss: 0.1204 - val_c1_loss: 0.0244 - val_c2_loss: 0.0303 - val_c3_loss: 0.0324 - val_c4_loss: 0.0333 - val_c1_acc: 0.9907 - val_c2_acc: 0.9883 - val_c3_acc: 0.9876 - val_c4_acc: 0.9874\n",
      "Epoch 3/10\n",
      "2000/2000 [==============================] - 1246s 623ms/step - loss: 0.1520 - c1_loss: 0.0359 - c2_loss: 0.0367 - c3_loss: 0.0419 - c4_loss: 0.0375 - c1_acc: 0.9889 - c2_acc: 0.9883 - c3_acc: 0.9870 - c4_acc: 0.9883 - val_loss: 0.0927 - val_c1_loss: 0.0208 - val_c2_loss: 0.0228 - val_c3_loss: 0.0282 - val_c4_loss: 0.0208 - val_c1_acc: 0.9927 - val_c2_acc: 0.9918 - val_c3_acc: 0.9902 - val_c4_acc: 0.9924\n",
      "Epoch 4/10\n",
      "2000/2000 [==============================] - 1247s 623ms/step - loss: 0.0816 - c1_loss: 0.0188 - c2_loss: 0.0201 - c3_loss: 0.0227 - c4_loss: 0.0200 - c1_acc: 0.9937 - c2_acc: 0.9930 - c3_acc: 0.9922 - c4_acc: 0.9932 - val_loss: 0.0548 - val_c1_loss: 0.0120 - val_c2_loss: 0.0141 - val_c3_loss: 0.0164 - val_c4_loss: 0.0123 - val_c1_acc: 0.9959 - val_c2_acc: 0.9949 - val_c3_acc: 0.9942 - val_c4_acc: 0.9957\n",
      "Epoch 5/10\n",
      "2000/2000 [==============================] - 1247s 623ms/step - loss: 0.0650 - c1_loss: 0.0147 - c2_loss: 0.0161 - c3_loss: 0.0180 - c4_loss: 0.0163 - c1_acc: 0.9952 - c2_acc: 0.9945 - c3_acc: 0.9940 - c4_acc: 0.9947 - val_loss: 0.0477 - val_c1_loss: 0.0097 - val_c2_loss: 0.0128 - val_c3_loss: 0.0138 - val_c4_loss: 0.0114 - val_c1_acc: 0.9967 - val_c2_acc: 0.9957 - val_c3_acc: 0.9951 - val_c4_acc: 0.9961\n",
      "Epoch 6/10\n",
      "2000/2000 [==============================] - 1245s 623ms/step - loss: 0.0523 - c1_loss: 0.0118 - c2_loss: 0.0129 - c3_loss: 0.0146 - c4_loss: 0.0129 - c1_acc: 0.9961 - c2_acc: 0.9956 - c3_acc: 0.9951 - c4_acc: 0.9957 - val_loss: 0.0491 - val_c1_loss: 0.0101 - val_c2_loss: 0.0130 - val_c3_loss: 0.0151 - val_c4_loss: 0.0109 - val_c1_acc: 0.9966 - val_c2_acc: 0.9958 - val_c3_acc: 0.9951 - val_c4_acc: 0.9963\n",
      "Epoch 7/10\n",
      "2000/2000 [==============================] - 1246s 623ms/step - loss: 0.0469 - c1_loss: 0.0106 - c2_loss: 0.0117 - c3_loss: 0.0129 - c4_loss: 0.0117 - c1_acc: 0.9966 - c2_acc: 0.9962 - c3_acc: 0.9958 - c4_acc: 0.9962 - val_loss: 0.0561 - val_c1_loss: 0.0128 - val_c2_loss: 0.0138 - val_c3_loss: 0.0163 - val_c4_loss: 0.0132 - val_c1_acc: 0.9961 - val_c2_acc: 0.9955 - val_c3_acc: 0.9947 - val_c4_acc: 0.9958\n",
      "Epoch 8/10\n",
      "2000/2000 [==============================] - 1246s 623ms/step - loss: 0.0406 - c1_loss: 0.0093 - c2_loss: 0.0099 - c3_loss: 0.0111 - c4_loss: 0.0102 - c1_acc: 0.9970 - c2_acc: 0.9968 - c3_acc: 0.9964 - c4_acc: 0.9967 - val_loss: 0.0342 - val_c1_loss: 0.0074 - val_c2_loss: 0.0089 - val_c3_loss: 0.0102 - val_c4_loss: 0.0077 - val_c1_acc: 0.9976 - val_c2_acc: 0.9971 - val_c3_acc: 0.9966 - val_c4_acc: 0.9975\n",
      "Epoch 9/10\n",
      "2000/2000 [==============================] - 1246s 623ms/step - loss: 0.0357 - c1_loss: 0.0082 - c2_loss: 0.0089 - c3_loss: 0.0096 - c4_loss: 0.0089 - c1_acc: 0.9973 - c2_acc: 0.9971 - c3_acc: 0.9969 - c4_acc: 0.9972 - val_loss: 0.0347 - val_c1_loss: 0.0073 - val_c2_loss: 0.0091 - val_c3_loss: 0.0106 - val_c4_loss: 0.0077 - val_c1_acc: 0.9977 - val_c2_acc: 0.9972 - val_c3_acc: 0.9968 - val_c4_acc: 0.9977\n",
      "Epoch 10/10\n",
      "2000/2000 [==============================] - 1247s 623ms/step - loss: 0.0313 - c1_loss: 0.0071 - c2_loss: 0.0078 - c3_loss: 0.0086 - c4_loss: 0.0079 - c1_acc: 0.9977 - c2_acc: 0.9974 - c3_acc: 0.9972 - c4_acc: 0.9975 - val_loss: 0.0362 - val_c1_loss: 0.0084 - val_c2_loss: 0.0087 - val_c3_loss: 0.0113 - val_c4_loss: 0.0079 - val_c1_acc: 0.9975 - val_c2_acc: 0.9974 - val_c3_acc: 0.9967 - val_c4_acc: 0.9975\n"
     ]
    },
    {
     "data": {
      "text/plain": [
       "<keras.callbacks.History at 0x7f81b20c95c0>"
      ]
     },
     "execution_count": 12,
     "metadata": {},
     "output_type": "execute_result"
    }
   ],
   "source": [
    "#model.fit_generator(file_iter(20,'data/train'), samples_per_epoch=50000, nb_epoch=5, \n",
    "#                    nb_worker=3, pickle_safe=True, \n",
    "#                    validation_data=file_iter(20,'data/test'), nb_val_samples=10000)\n",
    "#model.fit_generator(pickle_iter(10, 1000,'pickle/train'), \n",
    "#                    validation_data=pickle_iter(2, 1000,'pickle/test'), steps_per_epoch=10, \n",
    "#                    epochs=3, validation_steps=2, workers=3, use_multiprocessing=True)\n",
    "\n",
    "train_seq = PickleSequenceData('pickle/train', 2000)\n",
    "test_seq = PickleSequenceData('pickle/test', 400)\n",
    "\n",
    "\n",
    "model.fit_generator(train_seq, \n",
    "                    validation_data=test_seq, steps_per_epoch=2000, \n",
    "                    epochs=10, validation_steps=400, workers=4, use_multiprocessing=True)\n",
    "\n",
    "#model.fit_generator(gen(20), \n",
    " #                   validation_data=gen(20), steps_per_epoch=50000, \n",
    " #                   epochs=5, validation_steps=10000, workers=3, use_multiprocessing=True)"
   ]
  },
  {
   "cell_type": "markdown",
   "metadata": {},
   "source": [
    "# 测试模型"
   ]
  },
  {
   "cell_type": "code",
   "execution_count": 35,
   "metadata": {},
   "outputs": [
    {
     "data": {
      "text/plain": [
       "(-0.5, 169.5, 79.5, -0.5)"
      ]
     },
     "execution_count": 35,
     "metadata": {},
     "output_type": "execute_result"
    },
    {
     "data": {
      "image/png": "[encoded data removed]",
      "text/plain": [
       "<Figure size 432x288 with 1 Axes>"
      ]
     },
     "metadata": {
      "image/png": {
       "height": 217,
       "width": 370
      }
     },
     "output_type": "display_data"
    }
   ],
   "source": [
    "#model = load_model('cnn.h5')\n",
    "#model.save('cnn_200w_epoch10.h5')\n",
    "X, y = next(gen(1))\n",
    "y_pred = model.predict(X)\n",
    "plt.title('real: %s\\npred:%s'%(decode(y), decode(y_pred)))\n",
    "plt.imshow(X[0], cmap='gray')\n",
    "plt.axis('off')"
   ]
  },
  {
   "cell_type": "markdown",
   "metadata": {},
   "source": [
    "# 计算模型总体准确率"
   ]
  },
  {
   "cell_type": "code",
   "execution_count": 20,
   "metadata": {},
   "outputs": [
    {
     "name": "stderr",
     "output_type": "stream",
     "text": [
      "100%|██████████| 2000/2000 [00:08<00:00, 240.55it/s]\n"
     ]
    },
    {
     "data": {
      "text/plain": [
       "0.988"
      ]
     },
     "execution_count": 20,
     "metadata": {},
     "output_type": "execute_result"
    }
   ],
   "source": [
    "from tqdm import tqdm\n",
    "def evaluate(model, batch_num=2000):\n",
    "    batch_acc = 0\n",
    "    generator = gen(1)\n",
    "    for i in tqdm(range(batch_num)):\n",
    "        X, y = next(generator)\n",
    "        y_pred = model.predict(X)\n",
    "        y_pred = np.argmax(y_pred, axis=2).T\n",
    "        y_true = np.argmax(y, axis=2).T\n",
    "        if np.array_equal(y_true, y_pred):\n",
    "            batch_acc += 1\n",
    "    return batch_acc / batch_num\n",
    "\n",
    "\n",
    "evaluate(model)"
   ]
  },
  {
   "cell_type": "markdown",
   "metadata": {},
   "source": [
    "# 保存模型"
   ]
  },
  {
   "cell_type": "code",
   "execution_count": 18,
   "metadata": {},
   "outputs": [],
   "source": [
    "model.save('cnn_200w_epoch10.h5')"
   ]
  },
  {
   "cell_type": "code",
   "execution_count": null,
   "metadata": {},
   "outputs": [],
   "source": []
  }
 ],
 "metadata": {
  "kernelspec": {
   "display_name": "Python 3",
   "language": "python",
   "name": "python3"
  }
 },
 "nbformat": 4,
 "nbformat_minor": 2
}
